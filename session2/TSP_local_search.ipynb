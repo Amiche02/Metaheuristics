{
 "cells": [
  {
   "cell_type": "markdown",
   "metadata": {},
   "source": [
    "Load The Distance Matrix (represents the distances between the cities)"
   ]
  },
  {
   "cell_type": "code",
   "execution_count": null,
   "metadata": {},
   "outputs": [],
   "source": [
    "# load data from tsp file\n",
    "import numpy as np\n",
    "\n",
    "tsp_data = np.loadtxt('D:\\\\2024 Junia\\Teaching\\Mine\\Metaheuristics Lab Sessions\\TSPDataset\\gr17.2085.tsp')\n",
    "print(tsp_data.shape)"
   ]
  },
  {
   "cell_type": "markdown",
   "metadata": {},
   "source": [
    "The Objective function"
   ]
  },
  {
   "cell_type": "code",
   "execution_count": null,
   "metadata": {},
   "outputs": [],
   "source": [
    "import numpy as np\n",
    "def objective_fun(x, distmat = tsp_data):\n",
    "    distance = 0\n",
    "    for i in range(len(x)-1):\n",
    "        distance += tsp_data[x[i]][x[i+1]]\n",
    "    distance += tsp_data[x[-1]][x[0]]\n",
    "    return distance\n"
   ]
  },
  {
   "cell_type": "markdown",
   "metadata": {},
   "source": [
    "Generate the neighbors"
   ]
  },
  {
   "cell_type": "code",
   "execution_count": null,
   "metadata": {},
   "outputs": [],
   "source": [
    "def generate_neighbors(s):\n",
    "    neighbors = []\n",
    "    for i in range(1, len(s-1)):\n",
    "        for j in range(i+1, len(s)):\n",
    "            snew = s.copy()\n",
    "            snew[i], snew[j] = snew[j], snew[i]\n",
    "            neighbors.append(snew)\n",
    "    return np.array(neighbors)\n",
    "\n"
   ]
  },
  {
   "cell_type": "markdown",
   "metadata": {},
   "source": [
    "Get The Neighbor\n",
    " - Best Neighbor\n",
    " - The first Best Neighbor"
   ]
  },
  {
   "cell_type": "code",
   "execution_count": null,
   "metadata": {},
   "outputs": [],
   "source": [
    "def best_neighbor(s0):\n",
    "    f0 = objective_fun(s0)\n",
    "    neighbors = generate_neighbors(s0)\n",
    "    objs = np.apply_along_axis(objective_fun, axis=1, arr=neighbors, distmat = tsp_data)\n",
    "    f = objs[np.argmin(objs)]\n",
    "    s = neighbors[np.argmin(objs)]\n",
    "    if f > f0:\n",
    "        return s0, f0, False\n",
    "    else:\n",
    "        return s, objs[np.argmin(objs)], True\n",
    "    \n",
    "\n",
    "    "
   ]
  },
  {
   "cell_type": "markdown",
   "metadata": {},
   "source": [
    "Main agorithm"
   ]
  },
  {
   "cell_type": "code",
   "execution_count": null,
   "metadata": {},
   "outputs": [],
   "source": [
    "\n",
    "s0 = np.random.permutation(tsp_data.shape[0])\n",
    "print(s0)\n",
    "#sss = objective_fun(s0,tsp_data)\n",
    "#print(sss)\n",
    "\n",
    "print('Initial solution: {0}, with the objective function equals: {1}'.format(s0, objective_fun(s0,tsp_data)))\n",
    "Cond = True\n",
    "\n",
    "i = 0\n",
    "while Cond:\n",
    "    i += 1\n",
    "    s, f, Cond = best_neighbor(s0)\n",
    "    #s, f, Cond = first_best_neighbor(s0)\n",
    "    s0 = s\n",
    "\n",
    "    print('the best solution for {0}th iteration is: {1}, which corresponds objective function equals: {2}'.format(i, s0, f))\n",
    "\n",
    "print('_'*100)\n",
    "print('Since the two last solutions are the same')\n",
    "print('the final solution is: {0}, which corresponds to objective function equals: {1}'.format(s0, f))\n"
   ]
  },
  {
   "cell_type": "code",
   "execution_count": null,
   "metadata": {},
   "outputs": [],
   "source": [
    "'''\n",
    "s0 = np.array([0,0,0,0,0,0])\n",
    "print('Initial solution: {0}, with the objective function equals: {1}'.format(s0, objective_fun(s0)))\n",
    "Cond = True\n",
    "i = 0\n",
    "while Cond:\n",
    "    i += 1\n",
    "    #s, f, Cond = best_neighbor(s0)\n",
    "    s, f, Cond = first_best_neighbor(s0)\n",
    "    s0 = s\n",
    "\n",
    "    print('the best solution for {0}th iteration is: {1}, which corresponds objective function equals: {2}'.format(i, s0, f))\n",
    "\n",
    "print('_'*100)\n",
    "print('Since the two last solutions are the same')\n",
    "print('the final solution is: {0}, which corresponds to objective function equals: {1}'.format(s0, f))\n",
    "'''"
   ]
  },
  {
   "cell_type": "code",
   "execution_count": null,
   "metadata": {},
   "outputs": [],
   "source": []
  }
 ],
 "metadata": {
  "kernelspec": {
   "display_name": "Python 3 (ipykernel)",
   "language": "python",
   "name": "python3"
  },
  "language_info": {
   "codemirror_mode": {
    "name": "ipython",
    "version": 3
   },
   "file_extension": ".py",
   "mimetype": "text/x-python",
   "name": "python",
   "nbconvert_exporter": "python",
   "pygments_lexer": "ipython3",
   "version": "3.10.13"
  }
 },
 "nbformat": 4,
 "nbformat_minor": 2
}

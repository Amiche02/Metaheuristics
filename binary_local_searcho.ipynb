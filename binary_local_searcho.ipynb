{
 "cells": [
  {
   "cell_type": "markdown",
   "metadata": {},
   "source": [
    "The Objective function"
   ]
  },
  {
   "cell_type": "code",
   "execution_count": 3,
   "metadata": {},
   "outputs": [],
   "source": [
    "import numpy as np\n",
    "def objective_fun(x):\n",
    "    # converting the binary vector into decimal value by multiplying the input vector by 2 expenent i based on its position in the input vector\n",
    "    dic = np.matmul(x, (np.array([32, 16, 8, 4, 2, 1]).transpose()))\n",
    "    s = (dic**3)-(60*(dic**2)) + (900*dic)\n",
    "    return s"
   ]
  },
  {
   "cell_type": "markdown",
   "metadata": {},
   "source": [
    "Generate the neighbors"
   ]
  },
  {
   "cell_type": "code",
   "execution_count": 4,
   "metadata": {},
   "outputs": [],
   "source": [
    "def generate_neighbors(s):\n",
    "    # Generate the nighbors for the best improvement strategy\n",
    "    neighbors = []\n",
    "    for i in range(len(s)):\n",
    "        snew = s.copy()\n",
    "        snew[i]=1-snew[i]\n",
    "        neighbors.append(snew)\n",
    "    return np.array(neighbors)\n",
    "\n",
    "def generate_neighbor(s, i): \n",
    "    # Generate a neighbor by passing the current solution and the position of the bit to be flipped    \n",
    "    snew = s.copy()\n",
    "    snew[i]=1-snew[i]\n",
    "    return snew\n",
    "\n"
   ]
  },
  {
   "cell_type": "markdown",
   "metadata": {},
   "source": [
    "Get The Neighbor\n",
    " - Best Neighbor\n",
    " - The first Best Neighbor"
   ]
  },
  {
   "cell_type": "code",
   "execution_count": 5,
   "metadata": {},
   "outputs": [],
   "source": [
    "def best_neighbor(s0):\n",
    "    # The selection strategy for the best neighbor improvement\n",
    "    f0 = objective_fun(s0)\n",
    "    neighbors = generate_neighbors(s0)\n",
    "    objs = np.apply_along_axis(objective_fun, axis=1, arr=neighbors)\n",
    "    f = objs[np.argmax(objs)]\n",
    "    s = neighbors[np.argmax(objs)]\n",
    "    if f <= f0:\n",
    "        return s0, f0, False\n",
    "    else:\n",
    "        return s, objs[np.argmax(objs)], True\n",
    "    \n",
    "def first_best_neighbor(s0):\n",
    "    # The selecting strategy for the first best neighbor improvement\n",
    "    f0 = objective_fun(s0)\n",
    "    for i in range(len(s0)):\n",
    "        neighbor = generate_neighbor(s0, i)\n",
    "        f = objective_fun(neighbor)\n",
    "        if f > f0:\n",
    "            return neighbor, f, True\n",
    "\n",
    "    return s0, objective_fun(s0), False  \n",
    "    "
   ]
  },
  {
   "cell_type": "markdown",
   "metadata": {},
   "source": [
    "Main agorithm"
   ]
  },
  {
   "cell_type": "code",
   "execution_count": 6,
   "metadata": {},
   "outputs": [
    {
     "name": "stdout",
     "output_type": "stream",
     "text": [
      "Initial solution: [0 0 0 0 0 0], with the objective function equals: 0\n",
      "the best solution for 1th iteration is: [0 0 1 0 0 0], which corresponds objective function equals: 3872\n",
      "the best solution for 2th iteration is: [1 0 1 0 0 0], which corresponds objective function equals: 4000\n",
      "the best solution for 3th iteration is: [1 1 1 0 0 0], which corresponds objective function equals: 37856\n",
      "the best solution for 4th iteration is: [1 1 1 1 0 0], which corresponds objective function equals: 54000\n",
      "the best solution for 5th iteration is: [1 1 1 1 1 0], which corresponds objective function equals: 63488\n",
      "the best solution for 6th iteration is: [1 1 1 1 1 1], which corresponds objective function equals: 68607\n",
      "the best solution for 7th iteration is: [1 1 1 1 1 1], which corresponds objective function equals: 68607\n",
      "____________________________________________________________________________________________________\n",
      "Since the two last solutions are the same\n",
      "the final solution is: [1 1 1 1 1 1], which corresponds to objective function equals: 68607\n"
     ]
    }
   ],
   "source": [
    "\n",
    "# Evaluating the best neighbor strategy for the initital solution (s0)\n",
    "s0 = np.array([0,0,0,0,0,0]) # the initial solution\n",
    "print('Initial solution: {0}, with the objective function equals: {1}'.format(s0, objective_fun(s0)))\n",
    "Cond = True # this condition is set as true untill we reach a the situation where there is not and neighbor gives better the solution then the current one\n",
    "\n",
    "i = 0\n",
    "while Cond:\n",
    "    i += 1\n",
    "    s, f, Cond = best_neighbor(s0)\n",
    "    s0 = s\n",
    "\n",
    "    print('the best solution for {0}th iteration is: {1}, which corresponds objective function equals: {2}'.format(i, s0, f))\n",
    "\n",
    "print('_'*100)\n",
    "print('Since the two last solutions are the same')\n",
    "print('the final solution is: {0}, which corresponds to objective function equals: {1}'.format(s0, f))\n"
   ]
  },
  {
   "cell_type": "code",
   "execution_count": 7,
   "metadata": {},
   "outputs": [
    {
     "name": "stdout",
     "output_type": "stream",
     "text": [
      "Initial solution: [0 0 0 0 0 0], with the objective function equals: 0\n",
      "the best solution for 1th iteration is: [1 0 0 0 0 0], which corresponds objective function equals: 128\n",
      "the best solution for 2th iteration is: [1 1 0 0 0 0], which corresponds objective function equals: 15552\n",
      "the best solution for 3th iteration is: [1 1 1 0 0 0], which corresponds objective function equals: 37856\n",
      "the best solution for 4th iteration is: [1 1 1 1 0 0], which corresponds objective function equals: 54000\n",
      "the best solution for 5th iteration is: [1 1 1 1 1 0], which corresponds objective function equals: 63488\n",
      "the best solution for 6th iteration is: [1 1 1 1 1 1], which corresponds objective function equals: 68607\n",
      "the best solution for 7th iteration is: [1 1 1 1 1 1], which corresponds objective function equals: 68607\n",
      "____________________________________________________________________________________________________\n",
      "Since the two last solutions are the same\n",
      "the final solution is: [1 1 1 1 1 1], which corresponds to objective function equals: 68607\n"
     ]
    }
   ],
   "source": [
    "# Evaluating the first best neighbor strategy for the initital solution (s0)\n",
    "s0 = np.array([0,0,0,0,0,0])\n",
    "print('Initial solution: {0}, with the objective function equals: {1}'.format(s0, objective_fun(s0)))\n",
    "Cond = True\n",
    "i = 0\n",
    "while Cond:\n",
    "    i += 1\n",
    "    #s, f, Cond = best_neighbor(s0)\n",
    "    s, f, Cond = first_best_neighbor(s0)\n",
    "    s0 = s\n",
    "\n",
    "    print('the best solution for {0}th iteration is: {1}, which corresponds objective function equals: {2}'.format(i, s0, f))\n",
    "\n",
    "print('_'*100)\n",
    "print('Since the two last solutions are the same')\n",
    "print('the final solution is: {0}, which corresponds to objective function equals: {1}'.format(s0, f))"
   ]
  },
  {
   "cell_type": "code",
   "execution_count": null,
   "metadata": {},
   "outputs": [],
   "source": []
  }
 ],
 "metadata": {
  "kernelspec": {
   "display_name": "Python 3 (ipykernel)",
   "language": "python",
   "name": "python3"
  },
  "language_info": {
   "codemirror_mode": {
    "name": "ipython",
    "version": 3
   },
   "file_extension": ".py",
   "mimetype": "text/x-python",
   "name": "python",
   "nbconvert_exporter": "python",
   "pygments_lexer": "ipython3",
   "version": "3.10.13"
  }
 },
 "nbformat": 4,
 "nbformat_minor": 2
}
